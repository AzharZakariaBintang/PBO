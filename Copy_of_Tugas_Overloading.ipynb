{
  "nbformat": 4,
  "nbformat_minor": 0,
  "metadata": {
    "colab": {
      "provenance": [],
      "include_colab_link": true
    },
    "kernelspec": {
      "name": "python3",
      "display_name": "Python 3"
    },
    "language_info": {
      "name": "python"
    }
  },
  "cells": [
    {
      "cell_type": "markdown",
      "metadata": {
        "id": "view-in-github",
        "colab_type": "text"
      },
      "source": [
        "<a href=\"https://colab.research.google.com/github/AzharZakariaBintang/PBO/blob/main/Copy_of_Tugas_Overloading.ipynb\" target=\"_parent\"><img src=\"https://colab.research.google.com/assets/colab-badge.svg\" alt=\"Open In Colab\"/></a>"
      ]
    },
    {
      "cell_type": "code",
      "execution_count": null,
      "metadata": {
        "id": "cytAUNWzM1-6"
      },
      "outputs": [],
      "source": [
        "#Buat Perkalian yang memiliki Sebuah fungsi dangan nama Hitung\n",
        "#method hasil() dengan variasi parameter\n",
        "class Hitung:\n",
        "  def hasil(self, *args):\n",
        "    jumlah = 1\n",
        "    for number in args:\n",
        "      jumlah *= number\n",
        "    print(jumlah)"
      ]
    },
    {
      "cell_type": "code",
      "source": [
        "#Buat main program\n",
        "perkalian = Hitung()\n",
        "#Panggil fungsi Hitung untuk menghitung 2 parameter\n",
        "perkalian.hasil(2, 3)\n",
        "#Panggil fungsi Hitung untuk menghitung 3 parameter\n",
        "perkalian.hasil(6, 4, 6)\n",
        "#Panggil fungsi Hitung untuk menghitung 4 parameter\n",
        "perkalian.hasil(3, 4, 5, 7)"
      ],
      "metadata": {
        "id": "W9hN-kX7PDUI"
      },
      "execution_count": null,
      "outputs": []
    }
  ]
}