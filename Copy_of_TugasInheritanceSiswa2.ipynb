{
  "nbformat": 4,
  "nbformat_minor": 0,
  "metadata": {
    "colab": {
      "provenance": [],
      "include_colab_link": true
    },
    "kernelspec": {
      "name": "python3",
      "display_name": "Python 3"
    },
    "language_info": {
      "name": "python"
    }
  },
  "cells": [
    {
      "cell_type": "markdown",
      "metadata": {
        "id": "view-in-github",
        "colab_type": "text"
      },
      "source": [
        "<a href=\"https://colab.research.google.com/github/AzharZakariaBintang/PBO/blob/main/Copy_of_TugasInheritanceSiswa2.ipynb\" target=\"_parent\"><img src=\"https://colab.research.google.com/assets/colab-badge.svg\" alt=\"Open In Colab\"/></a>"
      ]
    },
    {
      "cell_type": "markdown",
      "source": [
        "Buatlah tiga kelas: User, Siswa, dan Guru. Class Siswa dan Guru mewarisi atribute dan fungsi dari class User. Keduanya menambahkan atribut dan fungsi tambahan sesuai dengan peran masing-masing.\n",
        "\n",
        "Output dari program ini akan menampilkan informasi seorang siswa dan seorang guru dengan menggunakan fungsi tampil_info() yang diwarisi dari class User. Untuk info user yang ditampilkan silakan ditentukan sendiri minimal ada nama dan umur.\n",
        "\n",
        "Untuk informasi khusus dari siswa dan guru silakan tentukan sendiri, minimal satu atribute tambahan yang membedakan antara siswa dan guru."
      ],
      "metadata": {
        "id": "oWYx5WDsIouf"
      }
    },
    {
      "cell_type": "code",
      "execution_count": 1,
      "metadata": {
        "id": "VQWWW4rpH9ve"
      },
      "outputs": [],
      "source": [
        "class user:\n",
        "  def __init__(self, nama, umur):\n",
        "    self.nama = nama\n",
        "    self.umur = umur\n",
        "\n",
        "  def tampil_info(self):\n",
        "    print(f\"nama: {self.nama}\")\n",
        "    print(f\"umur: {self.umur}\")"
      ]
    },
    {
      "cell_type": "code",
      "source": [
        "class Siswa(user):\n",
        "  def __init__(self, nama, umur, nis):\n",
        "    super().__init__(nama, umur)\n",
        "    self.nis = nis\n",
        "\n",
        "  def tampil_info(self):\n",
        "    super().tampil_info()\n",
        "    print(f\"nip: {self.nis}\")\n",
        "    print(f\"role: Siswa\")"
      ],
      "metadata": {
        "id": "i_iBjMciJJc5"
      },
      "execution_count": 2,
      "outputs": []
    },
    {
      "cell_type": "code",
      "source": [
        "class Guru(user):\n",
        "  def __init__(self, nama, umur, nip):\n",
        "    super().__init__(nama, umur)\n",
        "    self.nip = nip\n",
        "\n",
        "  def tampil_info(self):\n",
        "    super().tampil_info()\n",
        "    print(f\"nip: {self.nip}\")\n",
        "    print(f\"role: Guru\")"
      ],
      "metadata": {
        "id": "lrnlKm6sJMjp"
      },
      "execution_count": 3,
      "outputs": []
    },
    {
      "cell_type": "code",
      "source": [
        "siswa1 = Siswa(\"Haris\", 17, 24434 )\n",
        "guru1 = Guru(\"Didik\", 40, 54321 )\n",
        "print(\"informasi Siswa:\")\n",
        "siswa1.tampil_info()\n",
        "print(\"informasi Guru:\")\n",
        "guru1.tampil_info()"
      ],
      "metadata": {
        "id": "VDGIma_2JOVx",
        "colab": {
          "base_uri": "https://localhost:8080/"
        },
        "outputId": "f886caf7-cebd-4e72-86c3-b33d502cfb89"
      },
      "execution_count": 4,
      "outputs": [
        {
          "output_type": "stream",
          "name": "stdout",
          "text": [
            "informasi Siswa:\n",
            "nama: Haris\n",
            "umur: 17\n",
            "nip: 24434\n",
            "role: Siswa\n",
            "informasi Guru:\n",
            "nama: Didik\n",
            "umur: 40\n",
            "nip: 54321\n",
            "role: Guru\n"
          ]
        }
      ]
    }
  ]
}